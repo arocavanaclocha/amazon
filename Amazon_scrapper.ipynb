{
  "nbformat": 4,
  "nbformat_minor": 0,
  "metadata": {
    "colab": {
      "name": "Amazon scrapper.ipynb",
      "provenance": [],
      "collapsed_sections": [],
      "authorship_tag": "ABX9TyO39dXiZXn4LlOSBmtdaSzL",
      "include_colab_link": true
    },
    "kernelspec": {
      "name": "python3",
      "display_name": "Python 3"
    }
  },
  "cells": [
    {
      "cell_type": "markdown",
      "metadata": {
        "id": "view-in-github",
        "colab_type": "text"
      },
      "source": [
        "<a href=\"https://colab.research.google.com/github/arocavanaclocha/amazon/blob/master/Amazon_scrapper.ipynb\" target=\"_parent\"><img src=\"https://colab.research.google.com/assets/colab-badge.svg\" alt=\"Open In Colab\"/></a>"
      ]
    },
    {
      "cell_type": "markdown",
      "metadata": {
        "id": "nHqCZsNcZx2W"
      },
      "source": [
        "# Source\r\n",
        "Original [source code](https://github.com/scrapehero-code/amazon-scraper)."
      ]
    },
    {
      "cell_type": "code",
      "metadata": {
        "colab": {
          "base_uri": "https://localhost:8080/"
        },
        "id": "H8VB1S6fyjgq",
        "outputId": "c760f10b-f930-4ab4-8845-79878f96f94f"
      },
      "source": [
        "!git clone https://github.com/arocavanaclocha/amazon.git\r\n",
        "\r\n",
        "%cd amazon/amazon-scraper\r\n",
        "!pip3 install -r requirements.txt\r\n",
        "\r\n",
        "import scraper_utils \r\n",
        "import os\r\n",
        "import json\r\n",
        "\r\n",
        "\r\n",
        "if not os.path.exists('settings'):\r\n",
        "  os.makedirs('settings')\r\n",
        "\r\n",
        "\r\n",
        "if not os.path.exists('output'):\r\n",
        "  os.makedirs('output')\r\n"
      ],
      "execution_count": 1,
      "outputs": [
        {
          "output_type": "stream",
          "text": [
            "Cloning into 'amazon'...\n",
            "remote: Enumerating objects: 155, done.\u001b[K\n",
            "remote: Counting objects: 100% (155/155), done.\u001b[K\n",
            "remote: Compressing objects: 100% (132/132), done.\u001b[K\n",
            "remote: Total 155 (delta 73), reused 28 (delta 11), pack-reused 0\u001b[K\n",
            "Receiving objects: 100% (155/155), 45.16 KiB | 1.96 MiB/s, done.\n",
            "Resolving deltas: 100% (73/73), done.\n",
            "/content/amazon/amazon-scraper\n",
            "Collecting selectorlib\n",
            "  Downloading https://files.pythonhosted.org/packages/1e/3e/7ad0a01b07c066cf79c431324970869345e4d249242d70f20e939a5c630b/selectorlib-0.16.0-py2.py3-none-any.whl\n",
            "Requirement already satisfied: requests in /usr/local/lib/python3.6/dist-packages (from -r requirements.txt (line 2)) (2.23.0)\n",
            "Requirement already satisfied: pyyaml>=3.12 in /usr/local/lib/python3.6/dist-packages (from selectorlib->-r requirements.txt (line 1)) (3.13)\n",
            "Collecting parsel>=1.5.1\n",
            "  Downloading https://files.pythonhosted.org/packages/23/1e/9b39d64cbab79d4362cdd7be7f5e9623d45c4a53b3f7522cd8210df52d8e/parsel-1.6.0-py2.py3-none-any.whl\n",
            "Requirement already satisfied: Click>=6.0 in /usr/local/lib/python3.6/dist-packages (from selectorlib->-r requirements.txt (line 1)) (7.1.2)\n",
            "Requirement already satisfied: certifi>=2017.4.17 in /usr/local/lib/python3.6/dist-packages (from requests->-r requirements.txt (line 2)) (2020.12.5)\n",
            "Requirement already satisfied: chardet<4,>=3.0.2 in /usr/local/lib/python3.6/dist-packages (from requests->-r requirements.txt (line 2)) (3.0.4)\n",
            "Requirement already satisfied: urllib3!=1.25.0,!=1.25.1,<1.26,>=1.21.1 in /usr/local/lib/python3.6/dist-packages (from requests->-r requirements.txt (line 2)) (1.24.3)\n",
            "Requirement already satisfied: idna<3,>=2.5 in /usr/local/lib/python3.6/dist-packages (from requests->-r requirements.txt (line 2)) (2.10)\n",
            "Requirement already satisfied: six>=1.6.0 in /usr/local/lib/python3.6/dist-packages (from parsel>=1.5.1->selectorlib->-r requirements.txt (line 1)) (1.15.0)\n",
            "Collecting cssselect>=0.9\n",
            "  Downloading https://files.pythonhosted.org/packages/3b/d4/3b5c17f00cce85b9a1e6f91096e1cc8e8ede2e1be8e96b87ce1ed09e92c5/cssselect-1.1.0-py2.py3-none-any.whl\n",
            "Requirement already satisfied: lxml in /usr/local/lib/python3.6/dist-packages (from parsel>=1.5.1->selectorlib->-r requirements.txt (line 1)) (4.2.6)\n",
            "Collecting w3lib>=1.19.0\n",
            "  Downloading https://files.pythonhosted.org/packages/a3/59/b6b14521090e7f42669cafdb84b0ab89301a42f1f1a82fcf5856661ea3a7/w3lib-1.22.0-py2.py3-none-any.whl\n",
            "Installing collected packages: cssselect, w3lib, parsel, selectorlib\n",
            "Successfully installed cssselect-1.1.0 parsel-1.6.0 selectorlib-0.16.0 w3lib-1.22.0\n"
          ],
          "name": "stdout"
        }
      ]
    },
    {
      "cell_type": "code",
      "metadata": {
        "id": "xqziu4a93uRY"
      },
      "source": [
        "with open('settings/category_pages.txt', 'w') as file:\r\n",
        "  for i in range(1,2):\r\n",
        "    file.write('https://www.amazon.es/s?k=espejo+aumento&page=2&__mk_es_ES=%C3%85M%C3%85%C5%BD%C3%95%C3%91&qid=1607758339&ref=sr_pg_' + str(i) + \"\\n\")\r\n",
        "\r\n",
        "\r\n",
        "#Introduce search results pages in \"search_results_urls.txt\" and execute\r\n",
        "!python3 searchresults.py\r\n",
        "\r\n",
        "# data format file\r\n",
        "scraper_utils.give_format('output/category_pages.jsonl')\r\n",
        "\r\n",
        "with open(\"output/category_pages.jsonl\", 'r') as file1:\r\n",
        "  data = json.load(file1)\r\n",
        "\r\n",
        "  with open(\"settings/category_pages.txt\", 'w') as file2:\r\n",
        "    for each in data:\r\n",
        "      file2.write(\"https://www.amazon.es\"+ each[\"url\"] + \"\\n\")\r\n",
        "\r\n",
        "!python3 amazon.py\r\n",
        "scraper_utils.give_format('output/products.jsonl')\r\n"
      ],
      "execution_count": 2,
      "outputs": []
    },
    {
      "cell_type": "code",
      "metadata": {
        "colab": {
          "base_uri": "https://localhost:8080/"
        },
        "id": "5Hb5hbVgELoq",
        "outputId": "c4cb162f-a567-4ae8-eb3f-0a63a7966a57"
      },
      "source": [
        "#https://github.com/scrapehero-code/amazon-review-scraper/blob/master/reviews.py\r\n",
        "%cd /content\r\n",
        "!git clone https://github.com/scrapehero-code/amazon-review-scraper.git"
      ],
      "execution_count": 101,
      "outputs": [
        {
          "output_type": "stream",
          "text": [
            "/content\n",
            "Cloning into 'amazon-review-scraper'...\n",
            "remote: Enumerating objects: 13, done.\u001b[K\n",
            "remote: Counting objects: 100% (13/13), done.\u001b[K\n",
            "remote: Compressing objects: 100% (11/11), done.\u001b[K\n",
            "remote: Total 13 (delta 3), reused 8 (delta 1), pack-reused 0\u001b[K\n",
            "Unpacking objects: 100% (13/13), done.\n"
          ],
          "name": "stdout"
        }
      ]
    },
    {
      "cell_type": "code",
      "metadata": {
        "colab": {
          "base_uri": "https://localhost:8080/",
          "height": 35
        },
        "id": "lSX99IiPJaD6",
        "outputId": "302dcd8e-8c93-4d6f-caf7-1c82934607e0"
      },
      "source": [
        "import shutil\r\n",
        "\r\n",
        "original = r'amazon-scraper/urls.txt'\r\n",
        "target = r'amazon-review-scraper/urls.txt'\r\n",
        "\r\n",
        "shutil.copyfile(original, target)"
      ],
      "execution_count": 102,
      "outputs": [
        {
          "output_type": "execute_result",
          "data": {
            "application/vnd.google.colaboratory.intrinsic+json": {
              "type": "string"
            },
            "text/plain": [
              "'amazon-review-scraper/urls.txt'"
            ]
          },
          "metadata": {
            "tags": []
          },
          "execution_count": 102
        }
      ]
    },
    {
      "cell_type": "code",
      "metadata": {
        "id": "M3M4tazGESUe"
      },
      "source": [
        "%cd amazon-review-scraper\r\n",
        "!pip3 install -r requirements.txt"
      ],
      "execution_count": null,
      "outputs": []
    },
    {
      "cell_type": "markdown",
      "metadata": {
        "id": "mevTW4rjIy1R"
      },
      "source": [
        "Antes de ejecutar, modificar la función:\r\n",
        "\r\n",
        "\r\n",
        "with open(\"urls.txt\",'r') as urllist, open('data.csv','w') as outfile:\r\n",
        "    writer = csv.DictWriter(outfile, fieldnames=[\"title\",\"content\",\"date\",\"variant\",\"images\",\"verified\",\"author\",\"rating\",\"product\",\"url\"],quoting=csv.QUOTE_ALL)\r\n",
        "    writer.writeheader()\r\n",
        "    for url in urllist.readlines():\r\n",
        "        data = scrape(url) \r\n",
        "        if data:\r\n",
        "            for r in data['reviews']:\r\n",
        "                r[\"product\"] = data[\"product_title\"]\r\n",
        "                r['url'] = url\r\n",
        "                r['rating'] = r['rating']#.split(' out of')[0]\r\n",
        "                date_posted = r['date'].split('on ')[-1]\r\n",
        "                #if 'verified' in r:\r\n",
        "                #    if 'Verified Purchase' in r['verified']:\r\n",
        "                #        r['verified'] = 'Yes'\r\n",
        "                #    else:\r\n",
        "                #        r['verified'] = 'Yes'\r\n",
        "                if r['images']:\r\n",
        "                    r['images'] = \"\\n\".join(r['images'])\r\n",
        "                r['date'] = date_posted #dateparser.parse(date_posted).strftime('%d %b %Y')\r\n",
        "                writer.writerow(r)\r\n",
        "            # sleep(5)\r\n",
        "    "
      ]
    },
    {
      "cell_type": "code",
      "metadata": {
        "colab": {
          "base_uri": "https://localhost:8080/"
        },
        "id": "EevoSEJjFo4W",
        "outputId": "080575bb-bb84-4b7e-b147-e96445277b9b"
      },
      "source": [
        "!python3 reviews.py"
      ],
      "execution_count": 96,
      "outputs": [
        {
          "output_type": "stream",
          "text": [
            "Downloading https://www.amazon.es/gp/slredirect/picassoRedirect.html/ref=pa_sp_atf_next_aps_sr_pg2_1?ie=UTF8&adId=A00077643GUJAUA0ON89B&url=%2FMaquillaje-Tr%25C3%25ADptico-Cosm%25C3%25A9tico-Iluminac%25C3%25ADon-Adjustable%2Fdp%2FB08FBTGK2H%2Fref%3Dsr_1_49_sspa%3F__mk_es_ES%3D%25C3%2585M%25C3%2585%25C5%25BD%25C3%2595%25C3%2591%26dchild%3D1%26keywords%3Despejo%2Baumento%26qid%3D1607758339%26sr%3D8-49-spons%26psc%3D1&qualifier=1607760676&id=2668430127967837&widgetName=sp_atf_next\n",
            "\n",
            "Downloading https://www.amazon.es/gp/slredirect/picassoRedirect.html/ref=pa_sp_atf_next_aps_sr_pg2_1?ie=UTF8&adId=A0175235237TR30EHS14F&url=%2FMigaven-Maquillaje-Ampliaci%25C3%25B3n-Flexible-Dormitorio%2Fdp%2FB07R84F5NS%2Fref%3Dsr_1_50_sspa%3F__mk_es_ES%3D%25C3%2585M%25C3%2585%25C5%25BD%25C3%2595%25C3%2591%26dchild%3D1%26keywords%3Despejo%2Baumento%26qid%3D1607758339%26sr%3D8-50-spons%26psc%3D1&qualifier=1607760676&id=2668430127967837&widgetName=sp_atf_next\n",
            "\n",
            "Downloading https://www.amazon.es/gp/slredirect/picassoRedirect.html/ref=pa_sp_atf_next_aps_sr_pg2_1?ie=UTF8&adId=A0659446114I6FPGL96UB&url=%2FAuxmir-maquillaje-cosm%25C3%25A9tica-rotaci%25C3%25B3n-afeitado%2Fdp%2FB0787TPCW1%2Fref%3Dsr_1_51_sspa%3F__mk_es_ES%3D%25C3%2585M%25C3%2585%25C5%25BD%25C3%2595%25C3%2591%26dchild%3D1%26keywords%3Despejo%2Baumento%26qid%3D1607758339%26sr%3D8-51-spons%26psc%3D1%26smid%3DA1MK3Z7KVRV6LD&qualifier=1607760676&id=2668430127967837&widgetName=sp_atf_next\n",
            "\n",
            "Downloading https://www.amazon.es/gp/slredirect/picassoRedirect.html/ref=pa_sp_atf_next_aps_sr_pg2_1?ie=UTF8&adId=A0759137JP3J8AULDRUG&url=%2FAuxmir-Maquillaje-Cosm%25C3%25A9tico-Ajustables-Extensible%2Fdp%2FB088CW42LW%2Fref%3Dsr_1_52_sspa%3F__mk_es_ES%3D%25C3%2585M%25C3%2585%25C5%25BD%25C3%2595%25C3%2591%26dchild%3D1%26keywords%3Despejo%2Baumento%26qid%3D1607758339%26sr%3D8-52-spons%26psc%3D1%26smid%3DA1MK3Z7KVRV6LD&qualifier=1607760676&id=2668430127967837&widgetName=sp_atf_next\n",
            "\n",
            "Downloading https://www.amazon.es/WEILY-Maquillaje-Compacto-Bolsillo-Ajustable/dp/B07VVD7RYC/ref=sr_1_53?__mk_es_ES=%C3%85M%C3%85%C5%BD%C3%95%C3%91&dchild=1&keywords=espejo+aumento&qid=1607758339&sr=8-53\n",
            "\n",
            "Downloading https://www.amazon.es/Axxentia-Bad-282801-aumentos-di%C3%A1metro/dp/B002XZJY1Q/ref=sr_1_54?__mk_es_ES=%C3%85M%C3%85%C5%BD%C3%95%C3%91&dchild=1&keywords=espejo+aumento&qid=1607758339&sr=8-54\n",
            "\n",
            "Downloading https://www.amazon.es/BaByliss-8438E-Espejo-doble-aumentos/dp/B004W6ZPUI/ref=sr_1_55?__mk_es_ES=%C3%85M%C3%85%C5%BD%C3%95%C3%91&dchild=1&keywords=espejo+aumento&qid=1607758339&sr=8-55\n",
            "\n",
            "Downloading https://www.amazon.es/Beurer-BS-59-cosm%C3%A9tico-espejos/dp/B00336LUUW/ref=sr_1_56?__mk_es_ES=%C3%85M%C3%85%C5%BD%C3%95%C3%91&dchild=1&keywords=espejo+aumento&qid=1607758339&sr=8-56\n",
            "\n",
            "Downloading https://www.amazon.es/Malayas-Pulgadas-Giratorio-Extensible-Plegable/dp/B07LCD8MWM/ref=sr_1_57?__mk_es_ES=%C3%85M%C3%85%C5%BD%C3%95%C3%91&dchild=1&keywords=espejo+aumento&qid=1607758339&sr=8-57\n",
            "\n",
            "Downloading https://www.amazon.es/FASCINATE-Maquillaje-Magnetismo-Extra%C3%ADble-luminac%C3%ADon/dp/B07MV2LVJT/ref=sr_1_58?__mk_es_ES=%C3%85M%C3%85%C5%BD%C3%95%C3%91&dchild=1&keywords=espejo+aumento&qid=1607758339&sr=8-58\n",
            "\n",
            "Downloading https://www.amazon.es/Medisana-CM840-maquillaje-sobremesa-di%C3%A1metro/dp/B00NWV0QBM/ref=sr_1_59?__mk_es_ES=%C3%85M%C3%85%C5%BD%C3%95%C3%91&dchild=1&keywords=espejo+aumento&qid=1607758339&sr=8-59\n",
            "\n",
            "Downloading https://www.amazon.es/actualizada-aplicaci%C3%B3n-maquillaje-eliminaci%C3%B3n-espinillas/dp/B081H2WS2Q/ref=sr_1_60?__mk_es_ES=%C3%85M%C3%85%C5%BD%C3%95%C3%91&dchild=1&keywords=espejo+aumento&qid=1607758339&sr=8-60\n",
            "\n",
            "Downloading https://www.amazon.es/Mavoro-Compact-Mirror-compacto-aumentos/dp/B07VG7NM2L/ref=sr_1_61?__mk_es_ES=%C3%85M%C3%85%C5%BD%C3%95%C3%91&dchild=1&keywords=espejo+aumento&qid=1607758339&sr=8-61\n",
            "\n",
            "Downloading https://www.amazon.es/Trendy-Tendency-Espejo-Aumento-x10/dp/B07VDV9JHD/ref=sr_1_62?__mk_es_ES=%C3%85M%C3%85%C5%BD%C3%95%C3%91&dchild=1&keywords=espejo+aumento&qid=1607758339&sr=8-62\n",
            "\n",
            "Downloading https://www.amazon.es/maquillaje-pantalla-suplementario-ajustable-iluminaci%C3%B3n/dp/B06XY28L4N/ref=sr_1_63?__mk_es_ES=%C3%85M%C3%85%C5%BD%C3%95%C3%91&dchild=1&keywords=espejo+aumento&qid=1607758339&sr=8-63\n",
            "\n",
            "Downloading https://www.amazon.es/Wenko-Espejo-Aumento-Cosm%C3%A9tica-Plateado/dp/B0034KYQ2G/ref=sr_1_64?__mk_es_ES=%C3%85M%C3%85%C5%BD%C3%95%C3%91&dchild=1&keywords=espejo+aumento&qid=1607758339&sr=8-64\n",
            "\n",
            "Downloading https://www.amazon.es/Kasimir-Maquillaje-Definici%C3%B3n-Profesional-Escritorio/dp/B083K97JCD/ref=sr_1_65?__mk_es_ES=%C3%85M%C3%85%C5%BD%C3%95%C3%91&dchild=1&keywords=espejo+aumento&qid=1607758339&sr=8-65\n",
            "\n",
            "Downloading https://www.amazon.es/alvorog-Maquillaje-Rotaci%C3%B3n-Ajustable-Autom%C3%A1tico/dp/B08F217TNH/ref=sr_1_66?__mk_es_ES=%C3%85M%C3%85%C5%BD%C3%95%C3%91&dchild=1&keywords=espejo+aumento&qid=1607758339&sr=8-66\n",
            "\n",
            "Downloading https://www.amazon.es/Tatay-4440300-Espejo-extensible-diametro/dp/B00GY6W372/ref=sr_1_67?__mk_es_ES=%C3%85M%C3%85%C5%BD%C3%95%C3%91&dchild=1&keywords=espejo+aumento&qid=1607758339&sr=8-67\n",
            "\n",
            "Downloading https://www.amazon.es/FMG-Espejo-ba%C3%B1o-Aumento-Blanco/dp/B00KE8HMFE/ref=sr_1_68?__mk_es_ES=%C3%85M%C3%85%C5%BD%C3%95%C3%91&dchild=1&keywords=espejo+aumento&qid=1607758339&sr=8-68\n",
            "\n",
            "Downloading https://www.amazon.es/Maquillar-regulable-Ampliaci%C3%B3n-Rotaci%C3%B3n-KXD3101-10x/dp/B00IVLPQRC/ref=sr_1_69?__mk_es_ES=%C3%85M%C3%85%C5%BD%C3%95%C3%91&dchild=1&keywords=espejo+aumento&qid=1607758339&sr=8-69\n",
            "\n",
            "Downloading https://www.amazon.es/TUKA-Plegable-Cosm%C3%A9tica-Maquillar-Rotaci%C3%B3n/dp/B077PRG5TW/ref=sr_1_70?__mk_es_ES=%C3%85M%C3%85%C5%BD%C3%95%C3%91&dchild=1&keywords=espejo+aumento&qid=1607758339&sr=8-70\n",
            "\n",
            "Downloading https://www.amazon.es/Auxmir-iluminaci%C3%B3n-regulables-maquillaje-recargable/dp/B082HQ1CKY/ref=sr_1_71?__mk_es_ES=%C3%85M%C3%85%C5%BD%C3%95%C3%91&dchild=1&keywords=espejo+aumento&qid=1607758339&sr=8-71\n",
            "\n",
            "Downloading https://www.amazon.es/Aidodo-Espejo-Maquillaje-Luz-Aumento/dp/B085Q16M5Z/ref=sr_1_72?__mk_es_ES=%C3%85M%C3%85%C5%BD%C3%95%C3%91&dchild=1&keywords=espejo+aumento&qid=1607758339&sr=8-72\n",
            "\n",
            "Downloading https://www.amazon.es/gp/slredirect/picassoRedirect.html/ref=pa_sp_mtf_aps_sr_pg2_1?ie=UTF8&adId=A04300948HWN8O101R5A&url=%2FAuxmir-Maquillaje-Aumento-aumentos-Giratorio%2Fdp%2FB07MMTJM4T%2Fref%3Dsr_1_73_sspa%3F__mk_es_ES%3D%25C3%2585M%25C3%2585%25C5%25BD%25C3%2595%25C3%2591%26dchild%3D1%26keywords%3Despejo%2Baumento%26qid%3D1607758339%26sr%3D8-73-spons%26psc%3D1%26smid%3DA1MK3Z7KVRV6LD&qualifier=1607760676&id=2668430127967837&widgetName=sp_mtf\n",
            "\n",
            "Downloading https://www.amazon.es/gp/slredirect/picassoRedirect.html/ref=pa_sp_mtf_aps_sr_pg2_1?ie=UTF8&adId=A03364632QMAQ9WXLEAYS&url=%2Fmaquillaje-pantalla-suplementario-ajustable-iluminaci%25C3%25B3n%2Fdp%2FB06XY28L4N%2Fref%3Dsr_1_74_sspa%3F__mk_es_ES%3D%25C3%2585M%25C3%2585%25C5%25BD%25C3%2595%25C3%2591%26dchild%3D1%26keywords%3Despejo%2Baumento%26qid%3D1607758339%26sr%3D8-74-spons%26psc%3D1%26smid%3DA1MK3Z7KVRV6LD&qualifier=1607760676&id=2668430127967837&widgetName=sp_mtf\n",
            "\n",
            "Downloading https://www.amazon.es/gp/slredirect/picassoRedirect.html/ref=pa_sp_mtf_aps_sr_pg2_1?ie=UTF8&adId=A02648642P3GUVEF9078H&url=%2FTocador-Maquillaje-Giratorio-Independiente-Beautifive%2Fdp%2FB087BQKW7Z%2Fref%3Dsr_1_75_sspa%3F__mk_es_ES%3D%25C3%2585M%25C3%2585%25C5%25BD%25C3%2595%25C3%2591%26dchild%3D1%26keywords%3Despejo%2Baumento%26qid%3D1607758339%26sr%3D8-75-spons%26psc%3D1&qualifier=1607760676&id=2668430127967837&widgetName=sp_mtf\n",
            "\n",
            "Downloading https://www.amazon.es/gp/slredirect/picassoRedirect.html/ref=pa_sp_mtf_aps_sr_pg2_1?ie=UTF8&adId=A05168483LB8924CYPAT6&url=%2F15X-Espejo-Aumento-15cm-Eliminaci%25C3%25B3n%2Fdp%2FB07CDDFYZR%2Fref%3Dsr_1_76_sspa%3F__mk_es_ES%3D%25C3%2585M%25C3%2585%25C5%25BD%25C3%2595%25C3%2591%26dchild%3D1%26keywords%3Despejo%2Baumento%26qid%3D1607758339%26sr%3D8-76-spons%26psc%3D1&qualifier=1607760676&id=2668430127967837&widgetName=sp_mtf\n",
            "\n",
            "Downloading https://www.amazon.es/CORESLUX-maquillaje-iluminado-ajustable-alimentaci%C3%B3n/dp/B085CD6MJX/ref=sr_1_77?__mk_es_ES=%C3%85M%C3%85%C5%BD%C3%95%C3%91&dchild=1&keywords=espejo+aumento&qid=1607758339&sr=8-77\n",
            "\n",
            "Downloading https://www.amazon.es/Vimdiff-2019-Aumento-iluminaci%C3%B3n-aumentos/dp/B07T3F6RN2/ref=sr_1_78?__mk_es_ES=%C3%85M%C3%85%C5%BD%C3%95%C3%91&dchild=1&keywords=espejo+aumento&qid=1607758339&sr=8-78\n",
            "\n",
            "Downloading https://www.amazon.es/alvorog-Maquillaje-Ajustable-Inteligente-Recargable/dp/B08D3SDM5W/ref=sr_1_79?__mk_es_ES=%C3%85M%C3%85%C5%BD%C3%95%C3%91&dchild=1&keywords=espejo+aumento&qid=1607758339&sr=8-79\n",
            "\n",
            "Downloading https://www.amazon.es/Santoo-Plegable-Compacto-verdadera-Pulgadas/dp/B07XM52G7D/ref=sr_1_80?__mk_es_ES=%C3%85M%C3%85%C5%BD%C3%95%C3%91&dchild=1&keywords=espejo+aumento&qid=1607758339&sr=8-80\n",
            "\n",
            "Downloading https://www.amazon.es/BELLE-VOUS-Espejo-Grande-Extensible/dp/B071RD1J8T/ref=sr_1_81?__mk_es_ES=%C3%85M%C3%85%C5%BD%C3%95%C3%91&dchild=1&keywords=espejo+aumento&qid=1607758339&sr=8-81\n",
            "\n",
            "Downloading https://www.amazon.es/Plaisance-Premium-Standdy-Magnificador-Di%C3%A1metro/dp/B07W1GKVPG/ref=sr_1_82?__mk_es_ES=%C3%85M%C3%85%C5%BD%C3%95%C3%91&dchild=1&keywords=espejo+aumento&qid=1607758339&sr=8-82\n",
            "\n",
            "Downloading https://www.amazon.es/TUKA-Cosm%C3%A9tica-Aumento-Maquillar-rotaci%C3%B3n/dp/B078GK1BC6/ref=sr_1_83?__mk_es_ES=%C3%85M%C3%85%C5%BD%C3%95%C3%91&dchild=1&keywords=espejo+aumento&qid=1607758339&sr=8-83\n",
            "\n",
            "Downloading https://www.amazon.es/BESCHOI-Maquillaje-Bluetooth-T%C3%A1ctil%EF%BC%8CRegulable-USB%EF%BC%88Blanco%EF%BC%89/dp/B07S7T8YBD/ref=sr_1_84?__mk_es_ES=%C3%85M%C3%85%C5%BD%C3%95%C3%91&dchild=1&keywords=espejo+aumento&qid=1607758339&sr=8-84\n",
            "\n",
            "Downloading https://www.amazon.es/Excelvan-Espejo-maquillaje-Montaje-Pared-aumento/dp/B074128XJP/ref=sr_1_85?__mk_es_ES=%C3%85M%C3%85%C5%BD%C3%95%C3%91&dchild=1&keywords=espejo+aumento&qid=1607758339&sr=8-85\n",
            "\n",
            "Downloading https://www.amazon.es/Tatay-4440200-Espejo-Aumento-diametro/dp/B00XN4X9QW/ref=sr_1_86?__mk_es_ES=%C3%85M%C3%85%C5%BD%C3%95%C3%91&dchild=1&keywords=espejo+aumento&qid=1607758339&sr=8-86\n",
            "\n",
            "Downloading https://www.amazon.es/Maquillaje-Profesional-Cosm%C3%A9tico-Iluminac%C3%ADon-Com%C3%A9stico/dp/B08638FSYK/ref=sr_1_87?__mk_es_ES=%C3%85M%C3%85%C5%BD%C3%95%C3%91&dchild=1&keywords=espejo+aumento&qid=1607758339&sr=8-87\n",
            "\n",
            "Downloading https://www.amazon.es/Kasimir-Maquillaje-Profesional-USB-Recargable-Espejo-Transportar/dp/B087RDYTKX/ref=sr_1_88?__mk_es_ES=%C3%85M%C3%85%C5%BD%C3%95%C3%91&dchild=1&keywords=espejo+aumento&qid=1607758339&sr=8-88\n",
            "\n",
            "Downloading https://www.amazon.es/Maquillaje-Tr%C3%ADptico-Aumento-Cosm%C3%A9tico-Adjustable/dp/B089F9RGST/ref=sr_1_89?__mk_es_ES=%C3%85M%C3%85%C5%BD%C3%95%C3%91&dchild=1&keywords=espejo+aumento&qid=1607758339&sr=8-89\n",
            "\n",
            "Downloading https://www.amazon.es/Fantasia-cosm%C3%A9tico-ventosa-aumentos-pl%C3%A1stico/dp/B003NSIJ2M/ref=sr_1_90?__mk_es_ES=%C3%85M%C3%85%C5%BD%C3%95%C3%91&dchild=1&keywords=espejo+aumento&qid=1607758339&sr=8-90\n",
            "\n",
            "Downloading https://www.amazon.es/YILAITE-iluminaci%C3%B3n-Giratorio-Maquillaje-inal%C3%A1mbrico/dp/B0816XW4VK/ref=sr_1_91?__mk_es_ES=%C3%85M%C3%85%C5%BD%C3%95%C3%91&dchild=1&keywords=espejo+aumento&qid=1607758339&sr=8-91\n",
            "\n",
            "Downloading https://www.amazon.es/ERIDANUS-Cosmetic-Giratorio-SUPRIMIDO-MAGNIFICATION/dp/B07DCNMC6Q/ref=sr_1_92?__mk_es_ES=%C3%85M%C3%85%C5%BD%C3%95%C3%91&dchild=1&keywords=espejo+aumento&qid=1607758339&sr=8-92\n",
            "\n",
            "Downloading https://www.amazon.es/Maquillaje-Naturales-Rotaci%C3%B3n-Port%C3%A1til-Compacto/dp/B0868H92Z4/ref=sr_1_93?__mk_es_ES=%C3%85M%C3%85%C5%BD%C3%95%C3%91&dchild=1&keywords=espejo+aumento&qid=1607758339&sr=8-93\n",
            "\n",
            "Downloading https://www.amazon.es/eLim-Maquillaje-Aumento-Recargable-Ajustable/dp/B07JL64R5V/ref=sr_1_94?__mk_es_ES=%C3%85M%C3%85%C5%BD%C3%95%C3%91&dchild=1&keywords=espejo+aumento&qid=1607758339&sr=8-94\n",
            "\n",
            "Downloading https://www.amazon.es/PuTwo-Belleza-cosm%C3%A9tico-Decorativo-Princesa/dp/B077GT5YR3/ref=sr_1_95?__mk_es_ES=%C3%85M%C3%85%C5%BD%C3%95%C3%91&dchild=1&keywords=espejo+aumento&qid=1607758339&sr=8-95\n",
            "\n",
            "Downloading https://www.amazon.es/MSV-MS1083-141402-aumento-ventosa/dp/B01CWEMFKO/ref=sr_1_96?__mk_es_ES=%C3%85M%C3%85%C5%BD%C3%95%C3%91&dchild=1&keywords=espejo+aumento&qid=1607758339&sr=8-96\n",
            "\n",
            "Downloading https://www.amazon.es/SWEET-CARROT-cosm%C3%A9tico-giratorio-inal%C3%A1mbrico/dp/B0871G1LKK/ref=sr_1_97?__mk_es_ES=%C3%85M%C3%85%C5%BD%C3%95%C3%91&dchild=1&keywords=espejo+aumento&qid=1607758339&sr=8-97\n",
            "\n",
            "Traceback (most recent call last):\n",
            "  File \"reviews.py\", line 46, in <module>\n",
            "    for r in data['reviews']:\n",
            "TypeError: 'NoneType' object is not iterable\n"
          ],
          "name": "stdout"
        }
      ]
    }
  ]
}